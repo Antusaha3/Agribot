{
 "cells": [
  {
   "cell_type": "code",
   "execution_count": null,
   "id": "1f801ea6",
   "metadata": {},
   "outputs": [],
   "source": []
  },
  {
   "cell_type": "code",
   "execution_count": 6,
   "id": "ca83c37d",
   "metadata": {},
   "outputs": [
    {
     "name": "stdout",
     "output_type": "stream",
     "text": [
      "ROOT: D:\\project=2\\Agrigpt\\notebook\n"
     ]
    },
    {
     "data": {
      "text/plain": [
       "[WindowsPath('D:/project=2/Agrigpt/notebook/data/interim/bangladesh_agri_clean.txt'),\n",
       " WindowsPath('D:/project=2/Agrigpt/notebook/data/interim/spas_bd_clean.txt')]"
      ]
     },
     "execution_count": 6,
     "metadata": {},
     "output_type": "execute_result"
    }
   ],
   "source": [
    "from pathlib import Path\n",
    "import json, pandas as pd\n",
    "\n",
    "ROOT = Path().resolve()\n",
    "RAW = ROOT / \"D:/project=2/Agrigpt/data_csv/raw\"\n",
    "INTERIM = ROOT / \"D:/project=2/Agrigpt/notebook/data/interim\"\n",
    "REPORTS = ROOT / \"D:/project=2/Agrigpt/reports\"\n",
    "\n",
    "print(\"ROOT:\", ROOT)\n",
    "list(INTERIM.glob(\"*.txt\"))\n"
   ]
  },
  {
   "cell_type": "code",
   "execution_count": 2,
   "id": "95c7b8b9",
   "metadata": {},
   "outputs": [
    {
     "name": "stdout",
     "output_type": "stream",
     "text": [
      "Before rows: 103\n",
      "After lines: 103\n",
      "\n",
      "Raw sample row:\n",
      "                                                   0\n",
      "Season                                     Kharif 1\n",
      "Transplant                                    March\n",
      "Growth                                April to july\n",
      "Harvest                                         Aug\n",
      "Products name          Aus Rice(Local: Broadcasted)\n",
      "Crops Type                                  Cereals\n",
      "Max Temp                                       40.0\n",
      "Min Temp                                       12.0\n",
      "Max Relative Humidity                            60\n",
      "Min Relative Humidity                            85\n",
      "Country                                  Bangladesh\n",
      "\n",
      "After sample line:\n",
      " ফসল: Aus Rice(Local: Broadcasted) | মৌসুম: Kharif 1 | রোপণ: March | বৃদ্ধি: April to july | কাটাই: Aug | তাপমাত্রা: 12.0–40.0°C | আপেক্ষিক আর্দ্রতা: 85–60% | দেশ: Bangladesh\n"
     ]
    }
   ],
   "source": [
    "import pandas as pd\n",
    "\n",
    "raw_ba = pd.read_csv(next((RAW/\"bangladesh_agri\").glob(\"*.csv\")))\n",
    "with open(INTERIM/\"bangladesh_agri_clean.txt\", \"r\", encoding=\"utf-8\") as f:\n",
    "    after_lines = [l.strip() for l in f.readlines() if l.strip()]\n",
    "\n",
    "print(\"Before rows:\", len(raw_ba))\n",
    "print(\"After lines:\", len(after_lines))\n",
    "print(\"\\nRaw sample row:\\n\", raw_ba.head(1).T)\n",
    "print(\"\\nAfter sample line:\\n\", after_lines[0])\n"
   ]
  },
  {
   "cell_type": "code",
   "execution_count": 3,
   "id": "99af730f",
   "metadata": {},
   "outputs": [
    {
     "name": "stdout",
     "output_type": "stream",
     "text": [
      "Before rows: 4608\n",
      "After lines: 200\n",
      "\n",
      "Raw sample row:\n",
      "                                   0\n",
      "Area                         177321\n",
      "AP Ratio               0.8510272331\n",
      "District                   Bagerhat\n",
      "Season                     Kharif 2\n",
      "Avg Temp                       26.0\n",
      "Avg Humidity                   72.5\n",
      "Crop Name                      Aman\n",
      "Transplant                     June\n",
      "Growth                 July to  Oct\n",
      "Harvest                  Nov to Dec\n",
      "Production                   150905\n",
      "Max Temp                         40\n",
      "Min Temp                       12.0\n",
      "Max Relative Humidity            60\n",
      "Min Relative Humidity            85\n",
      "\n",
      "After sample line:\n",
      " ফসল: Aman | জেলা: Bagerhat | মৌসুম: Kharif 2 | রোপণ: June | বৃদ্ধি: July to Oct | কাটাই: Nov to Dec | গড় তাপমাত্রা: 26.0°C | তাপমাত্রা: 12.0–40°C | গড় আর্দ্রতা: 72.5% | আপেক্ষিক আর্দ্রতা: 85–60% | উৎপাদন: 150905\n"
     ]
    }
   ],
   "source": [
    "raw_sp = pd.read_csv(next((RAW/\"spas_bd\").glob(\"SPAS-Dataset-BD*.csv\")))\n",
    "with open(INTERIM/\"spas_bd_clean.txt\", \"r\", encoding=\"utf-8\") as f:\n",
    "    sp_lines = [l.strip() for l in f.readlines() if l.strip()]\n",
    "\n",
    "print(\"Before rows:\", len(raw_sp))\n",
    "print(\"After lines:\", len(sp_lines))\n",
    "print(\"\\nRaw sample row:\\n\", raw_sp.head(1).T)\n",
    "print(\"\\nAfter sample line:\\n\", sp_lines[0])\n"
   ]
  },
  {
   "cell_type": "code",
   "execution_count": 4,
   "id": "621837e8",
   "metadata": {},
   "outputs": [
    {
     "data": {
      "text/plain": [
       "([{'source': 'bangladesh_agri',\n",
       "   'doc_id': 'doc_51c8bb4f2c18',\n",
       "   'line_id': 'chunk_doc_51c8bb4f2c18_0000',\n",
       "   'section_path': 'Aus Rice(Local: Broadcasted) > Season > Kharif 1',\n",
       "   'language': 'bn',\n",
       "   'title': 'Bangladesh Agricultural Dataset (104 crops)',\n",
       "   'created_at': '2025-09-13T09:04:50.480932Z',\n",
       "   'fields': {'crop_name': 'Aus Rice(Local: Broadcasted)',\n",
       "    'season': 'Kharif 1',\n",
       "    'transplant': 'March',\n",
       "    'growth': 'April to july',\n",
       "    'harvest': 'Aug',\n",
       "    'min_temp_c': 12.0,\n",
       "    'max_temp_c': 40.0,\n",
       "    'min_rh': 85,\n",
       "    'max_rh': 60,\n",
       "    'country': 'Bangladesh'}},\n",
       "  {'source': 'bangladesh_agri',\n",
       "   'doc_id': 'doc_51c8bb4f2c18',\n",
       "   'line_id': 'chunk_doc_51c8bb4f2c18_0001',\n",
       "   'section_path': 'Aus Rice(HYV: Transplant) > Season > Kharif 1',\n",
       "   'language': 'bn',\n",
       "   'title': 'Bangladesh Agricultural Dataset (104 crops)',\n",
       "   'created_at': '2025-09-13T09:04:50.480932Z',\n",
       "   'fields': {'crop_name': 'Aus Rice(HYV: Transplant)',\n",
       "    'season': 'Kharif 1',\n",
       "    'transplant': 'March',\n",
       "    'growth': 'April to june',\n",
       "    'harvest': 'July',\n",
       "    'min_temp_c': 12.0,\n",
       "    'max_temp_c': 40.0,\n",
       "    'min_rh': 85,\n",
       "    'max_rh': 60,\n",
       "    'country': 'Bangladesh'}},\n",
       "  {'source': 'bangladesh_agri',\n",
       "   'doc_id': 'doc_51c8bb4f2c18',\n",
       "   'line_id': 'chunk_doc_51c8bb4f2c18_0002',\n",
       "   'section_path': 'Maize 2 > Season > Kharif 1',\n",
       "   'language': 'bn',\n",
       "   'title': 'Bangladesh Agricultural Dataset (104 crops)',\n",
       "   'created_at': '2025-09-13T09:04:50.480932Z',\n",
       "   'fields': {'crop_name': 'Maize 2',\n",
       "    'season': 'Kharif 1',\n",
       "    'transplant': 'March',\n",
       "    'growth': 'April to May',\n",
       "    'harvest': 'June to July',\n",
       "    'min_temp_c': 20.0,\n",
       "    'max_temp_c': 34.0,\n",
       "    'min_rh': 85,\n",
       "    'max_rh': 60,\n",
       "    'country': 'Bangladesh'}}],\n",
       " [{'source': 'spas_bd',\n",
       "   'doc_id': 'doc_b5582b4de6f9',\n",
       "   'line_id': 'chunk_doc_b5582b4de6f9_0000',\n",
       "   'section_path': 'Aman > District > Bagerhat > Season > Kharif 2',\n",
       "   'language': 'bn',\n",
       "   'title': 'SPAS-Dataset-BD (Agronomy + Climate)',\n",
       "   'created_at': '2025-09-13T09:04:50.595950Z',\n",
       "   'fields': {'crop_name': 'Aman',\n",
       "    'district': 'Bagerhat',\n",
       "    'season': 'Kharif 2',\n",
       "    'transplant': 'June',\n",
       "    'growth': 'July to Oct',\n",
       "    'harvest': 'Nov to Dec',\n",
       "    'avg_temp_c': 26.0,\n",
       "    'max_temp_c': 40.0,\n",
       "    'min_temp_c': 12.0,\n",
       "    'avg_humidity': 72.5,\n",
       "    'min_rh': 85,\n",
       "    'max_rh': 60,\n",
       "    'production': 150905}},\n",
       "  {'source': 'spas_bd',\n",
       "   'doc_id': 'doc_b5582b4de6f9',\n",
       "   'line_id': 'chunk_doc_b5582b4de6f9_0001',\n",
       "   'section_path': 'Aman > District > Bandarban > Season > Kharif 2',\n",
       "   'language': 'bn',\n",
       "   'title': 'SPAS-Dataset-BD (Agronomy + Climate)',\n",
       "   'created_at': '2025-09-13T09:04:50.595950Z',\n",
       "   'fields': {'crop_name': 'Aman',\n",
       "    'district': 'Bandarban',\n",
       "    'season': 'Kharif 2',\n",
       "    'transplant': 'June',\n",
       "    'growth': 'July to Oct',\n",
       "    'harvest': 'Nov to Dec',\n",
       "    'avg_temp_c': 26.0,\n",
       "    'max_temp_c': 40.0,\n",
       "    'min_temp_c': 12.0,\n",
       "    'avg_humidity': 72.5,\n",
       "    'min_rh': 85,\n",
       "    'max_rh': 60,\n",
       "    'production': 30154}},\n",
       "  {'source': 'spas_bd',\n",
       "   'doc_id': 'doc_b5582b4de6f9',\n",
       "   'line_id': 'chunk_doc_b5582b4de6f9_0002',\n",
       "   'section_path': 'Aman > District > Barguna > Season > Kharif 2',\n",
       "   'language': 'bn',\n",
       "   'title': 'SPAS-Dataset-BD (Agronomy + Climate)',\n",
       "   'created_at': '2025-09-13T09:04:50.595950Z',\n",
       "   'fields': {'crop_name': 'Aman',\n",
       "    'district': 'Barguna',\n",
       "    'season': 'Kharif 2',\n",
       "    'transplant': 'June',\n",
       "    'growth': 'July to Oct',\n",
       "    'harvest': 'Nov to Dec',\n",
       "    'avg_temp_c': 26.0,\n",
       "    'max_temp_c': 40.0,\n",
       "    'min_temp_c': 12.0,\n",
       "    'avg_humidity': 72.5,\n",
       "    'min_rh': 85,\n",
       "    'max_rh': 60,\n",
       "    'production': 178315}}])"
      ]
     },
     "execution_count": 4,
     "metadata": {},
     "output_type": "execute_result"
    }
   ],
   "source": [
    "def peek_jsonl(p):\n",
    "    return [json.loads(l) for l in p.read_text(encoding=\"utf-8\").splitlines()[:3]]\n",
    "\n",
    "peek_jsonl(INTERIM/\"bangladesh_agri_clean.jsonl\"), peek_jsonl(INTERIM/\"spas_bd_clean.jsonl\")\n"
   ]
  },
  {
   "cell_type": "code",
   "execution_count": 7,
   "id": "8a485540",
   "metadata": {},
   "outputs": [
    {
     "data": {
      "text/html": [
       "<div>\n",
       "<style scoped>\n",
       "    .dataframe tbody tr th:only-of-type {\n",
       "        vertical-align: middle;\n",
       "    }\n",
       "\n",
       "    .dataframe tbody tr th {\n",
       "        vertical-align: top;\n",
       "    }\n",
       "\n",
       "    .dataframe thead th {\n",
       "        text-align: right;\n",
       "    }\n",
       "</style>\n",
       "<table border=\"1\" class=\"dataframe\">\n",
       "  <thead>\n",
       "    <tr style=\"text-align: right;\">\n",
       "      <th></th>\n",
       "      <th>file</th>\n",
       "      <th>exists</th>\n",
       "      <th>lines</th>\n",
       "      <th>avg_tokens</th>\n",
       "      <th>p95_tokens</th>\n",
       "      <th>max_tokens</th>\n",
       "    </tr>\n",
       "  </thead>\n",
       "  <tbody>\n",
       "    <tr>\n",
       "      <th>0</th>\n",
       "      <td>bangladesh_agri_clean.txt</td>\n",
       "      <td>True</td>\n",
       "      <td>103</td>\n",
       "      <td>28.91</td>\n",
       "      <td>31</td>\n",
       "      <td>31</td>\n",
       "    </tr>\n",
       "    <tr>\n",
       "      <th>1</th>\n",
       "      <td>spas_bd_clean.txt</td>\n",
       "      <td>True</td>\n",
       "      <td>200</td>\n",
       "      <td>39.30</td>\n",
       "      <td>40</td>\n",
       "      <td>41</td>\n",
       "    </tr>\n",
       "  </tbody>\n",
       "</table>\n",
       "</div>"
      ],
      "text/plain": [
       "                        file  exists  lines  avg_tokens  p95_tokens  \\\n",
       "0  bangladesh_agri_clean.txt    True    103       28.91          31   \n",
       "1          spas_bd_clean.txt    True    200       39.30          40   \n",
       "\n",
       "   max_tokens  \n",
       "0          31  \n",
       "1          41  "
      ]
     },
     "execution_count": 7,
     "metadata": {},
     "output_type": "execute_result"
    }
   ],
   "source": [
    "pd.read_csv(REPORTS/\"preprocess_quality_report.csv\")\n"
   ]
  },
  {
   "cell_type": "code",
   "execution_count": null,
   "id": "f05f7647",
   "metadata": {},
   "outputs": [],
   "source": []
  },
  {
   "cell_type": "code",
   "execution_count": 8,
   "id": "f04d3c2f",
   "metadata": {},
   "outputs": [
    {
     "data": {
      "text/html": [
       "<div>\n",
       "<style scoped>\n",
       "    .dataframe tbody tr th:only-of-type {\n",
       "        vertical-align: middle;\n",
       "    }\n",
       "\n",
       "    .dataframe tbody tr th {\n",
       "        vertical-align: top;\n",
       "    }\n",
       "\n",
       "    .dataframe thead th {\n",
       "        text-align: right;\n",
       "    }\n",
       "</style>\n",
       "<table border=\"1\" class=\"dataframe\">\n",
       "  <thead>\n",
       "    <tr style=\"text-align: right;\">\n",
       "      <th></th>\n",
       "      <th>source</th>\n",
       "      <th>retention</th>\n",
       "    </tr>\n",
       "  </thead>\n",
       "  <tbody>\n",
       "    <tr>\n",
       "      <th>0</th>\n",
       "      <td>bangladesh_agri</td>\n",
       "      <td>100.00</td>\n",
       "    </tr>\n",
       "    <tr>\n",
       "      <th>1</th>\n",
       "      <td>spas_bd</td>\n",
       "      <td>4.34</td>\n",
       "    </tr>\n",
       "  </tbody>\n",
       "</table>\n",
       "</div>"
      ],
      "text/plain": [
       "            source  retention\n",
       "0  bangladesh_agri     100.00\n",
       "1          spas_bd       4.34"
      ]
     },
     "execution_count": 8,
     "metadata": {},
     "output_type": "execute_result"
    }
   ],
   "source": [
    "# Example threshold: at least 95% of rows retained as lines (no giant drops)\n",
    "ba_before = len(raw_ba)\n",
    "sp_before = len(raw_sp)\n",
    "ba_after = len(open(INTERIM/\"bangladesh_agri_clean.txt\", encoding=\"utf-8\").read().splitlines())\n",
    "sp_after = len(open(INTERIM/\"spas_bd_clean.txt\", encoding=\"utf-8\").read().splitlines())\n",
    "\n",
    "retention = pd.DataFrame([\n",
    "    {\"source\":\"bangladesh_agri\",\"retention\": round(ba_after/ba_before*100, 2)},\n",
    "    {\"source\":\"spas_bd\",\"retention\": round(sp_after/sp_before*100, 2)},\n",
    "])\n",
    "retention\n"
   ]
  },
  {
   "cell_type": "code",
   "execution_count": 10,
   "id": "23208adf",
   "metadata": {},
   "outputs": [
    {
     "data": {
      "text/html": [
       "<div>\n",
       "<style scoped>\n",
       "    .dataframe tbody tr th:only-of-type {\n",
       "        vertical-align: middle;\n",
       "    }\n",
       "\n",
       "    .dataframe tbody tr th {\n",
       "        vertical-align: top;\n",
       "    }\n",
       "\n",
       "    .dataframe thead th {\n",
       "        text-align: right;\n",
       "    }\n",
       "</style>\n",
       "<table border=\"1\" class=\"dataframe\">\n",
       "  <thead>\n",
       "    <tr style=\"text-align: right;\">\n",
       "      <th></th>\n",
       "      <th>source</th>\n",
       "      <th>retention</th>\n",
       "    </tr>\n",
       "  </thead>\n",
       "  <tbody>\n",
       "    <tr>\n",
       "      <th>0</th>\n",
       "      <td>bangladesh_agri</td>\n",
       "      <td>100.0</td>\n",
       "    </tr>\n",
       "    <tr>\n",
       "      <th>1</th>\n",
       "      <td>spas_bd</td>\n",
       "      <td>100.0</td>\n",
       "    </tr>\n",
       "  </tbody>\n",
       "</table>\n",
       "</div>"
      ],
      "text/plain": [
       "            source  retention\n",
       "0  bangladesh_agri      100.0\n",
       "1          spas_bd      100.0"
      ]
     },
     "execution_count": 10,
     "metadata": {},
     "output_type": "execute_result"
    }
   ],
   "source": [
    "from pathlib import Path\n",
    "import pandas as pd\n",
    "\n",
    "RAW = Path(r\"D:/project=2/Agrigpt/data_csv/raw\")\n",
    "INTERIM = Path(r\"D:/project=2/Agrigpt/notebook/data/interim\")\n",
    "\n",
    "raw_ba = pd.read_csv(next((RAW/\"bangladesh_agri\").glob(\"*.csv\")))\n",
    "raw_sp = pd.read_csv(next((RAW/\"spas_bd\").glob(\"SPAS-Dataset-BD*.csv\")))\n",
    "\n",
    "after_ba = sum(1 for _ in open(INTERIM/\"bangladesh_agri_clean.txt\", encoding=\"utf-8\"))\n",
    "after_sp = sum(1 for _ in open(INTERIM/\"spas_bd_clean.txt\", encoding=\"utf-8\"))\n",
    "\n",
    "pd.DataFrame([\n",
    "    {\"source\":\"bangladesh_agri\",\"retention\": round(after_ba/len(raw_ba)*100, 2)},\n",
    "    {\"source\":\"spas_bd\",\"retention\": round(after_sp/len(raw_sp)*100, 2)},\n",
    "])\n"
   ]
  }
 ],
 "metadata": {
  "kernelspec": {
   "display_name": ".venv",
   "language": "python",
   "name": "python3"
  },
  "language_info": {
   "codemirror_mode": {
    "name": "ipython",
    "version": 3
   },
   "file_extension": ".py",
   "mimetype": "text/x-python",
   "name": "python",
   "nbconvert_exporter": "python",
   "pygments_lexer": "ipython3",
   "version": "3.10.0"
  }
 },
 "nbformat": 4,
 "nbformat_minor": 5
}
