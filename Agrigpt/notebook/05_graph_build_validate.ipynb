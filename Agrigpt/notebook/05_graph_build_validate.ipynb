{
 "cells": [
  {
   "cell_type": "code",
   "execution_count": null,
   "id": "4f3b1166",
   "metadata": {},
   "outputs": [],
   "source": []
  },
  {
   "cell_type": "code",
   "execution_count": null,
   "id": "3a65dbb6",
   "metadata": {},
   "outputs": [],
   "source": []
  },
  {
   "cell_type": "code",
   "execution_count": 1,
   "id": "f0758ae9",
   "metadata": {},
   "outputs": [
    {
     "name": "stderr",
     "output_type": "stream",
     "text": [
      "C:\\Users\\antu\\AppData\\Local\\Programs\\Python\\Python310\\python.exe: can't open file 'd:\\\\project=2\\\\Agrigpt\\\\notebook\\\\graph\\\\seed_from_clean.py': [Errno 2] No such file or directory\n",
      "C:\\Users\\antu\\AppData\\Local\\Programs\\Python\\Python310\\python.exe: can't open file 'd:\\\\project=2\\\\Agrigpt\\\\notebook\\\\graph\\\\loader.py': [Errno 2] No such file or directory\n"
     ]
    }
   ],
   "source": [
    "!python graph/seed_from_clean.py\n",
    "!python graph/loader.py\n"
   ]
  },
  {
   "cell_type": "code",
   "execution_count": 3,
   "id": "3dd2208f",
   "metadata": {},
   "outputs": [
    {
     "name": "stdout",
     "output_type": "stream",
     "text": [
      "Crops: 103\n",
      "Locations: 64\n",
      "SUITABLE_IN: 103\n",
      "CULTIVATED_IN: 1280\n"
     ]
    }
   ],
   "source": [
    "from neo4j import GraphDatabase\n",
    "import os\n",
    "driver = GraphDatabase.driver(os.getenv(\"NEO4J_URI\",\"bolt://localhost:7687\"),\n",
    "                              auth=(os.getenv(\"NEO4J_USER\",\"neo4j\"), os.getenv(\"NEO4J_PASSWORD\",\"12345agri\")))\n",
    "with driver.session() as s:\n",
    "    print(\"Crops:\", s.run(\"MATCH (c:Crop) RETURN count(c) AS n\").single()[\"n\"])\n",
    "    print(\"Locations:\", s.run(\"MATCH (l:Location) RETURN count(l) AS n\").single()[\"n\"])\n",
    "    print(\"SUITABLE_IN:\", s.run(\"MATCH ()-[r:SUITABLE_IN]->() RETURN count(r) AS n\").single()[\"n\"])\n",
    "    print(\"CULTIVATED_IN:\", s.run(\"MATCH ()-[r:CULTIVATED_IN]->() RETURN count(r) AS n\").single()[\"n\"])\n"
   ]
  }
 ],
 "metadata": {
  "kernelspec": {
   "display_name": ".venv",
   "language": "python",
   "name": "python3"
  },
  "language_info": {
   "codemirror_mode": {
    "name": "ipython",
    "version": 3
   },
   "file_extension": ".py",
   "mimetype": "text/x-python",
   "name": "python",
   "nbconvert_exporter": "python",
   "pygments_lexer": "ipython3",
   "version": "3.10.0"
  }
 },
 "nbformat": 4,
 "nbformat_minor": 5
}
