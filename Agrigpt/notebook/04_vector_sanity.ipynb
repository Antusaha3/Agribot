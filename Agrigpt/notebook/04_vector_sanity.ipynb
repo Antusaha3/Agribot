{
 "cells": [
  {
   "cell_type": "code",
   "execution_count": 19,
   "id": "df464f6a",
   "metadata": {},
   "outputs": [
    {
     "name": "stdout",
     "output_type": "stream",
     "text": [
      "In sys.path? True\n"
     ]
    }
   ],
   "source": [
    "import sys\n",
    "from pathlib import Path\n",
    "\n",
    "# Point to your project root folder explicitly (Windows-safe)\n",
    "PROJECT_ROOT = Path(r\"D:/project=2/Agrigpt\")\n",
    "if str(PROJECT_ROOT) not in sys.path:\n",
    "    sys.path.insert(0, str(PROJECT_ROOT))\n",
    "\n",
    "print(\"In sys.path?\", str(PROJECT_ROOT) in sys.path)\n"
   ]
  },
  {
   "cell_type": "code",
   "execution_count": null,
   "id": "4d6b6691",
   "metadata": {},
   "outputs": [
    {
     "ename": "ModuleNotFoundError",
     "evalue": "No module named 'rag.retriever'",
     "output_type": "error",
     "traceback": [
      "\u001b[1;31m---------------------------------------------------------------------------\u001b[0m",
      "\u001b[1;31mModuleNotFoundError\u001b[0m                       Traceback (most recent call last)",
      "Cell \u001b[1;32mIn[35], line 1\u001b[0m\n\u001b[1;32m----> 1\u001b[0m \u001b[38;5;28;01mfrom\u001b[39;00m\u001b[38;5;250m \u001b[39m\u001b[38;5;21;01mrag\u001b[39;00m\u001b[38;5;21;01m.\u001b[39;00m\u001b[38;5;21;01mretriever\u001b[39;00m\u001b[38;5;250m \u001b[39m\u001b[38;5;28;01mimport\u001b[39;00m search\n\u001b[0;32m      3\u001b[0m \u001b[38;5;66;03m# or, if you added the re-export in __init__.py:\u001b[39;00m\n\u001b[0;32m      4\u001b[0m \u001b[38;5;66;03m# from rag import search\u001b[39;00m\n\u001b[0;32m      6\u001b[0m \u001b[38;5;28;01mimport\u001b[39;00m\u001b[38;5;250m \u001b[39m\u001b[38;5;21;01mtime\u001b[39;00m\n",
      "\u001b[1;31mModuleNotFoundError\u001b[0m: No module named 'rag.retriever'"
     ]
    }
   ],
   "source": [
    "from rag.retriever import search\n",
    "\n",
    "# or, if you added the re-export in __init__.py:\n",
    "# from rag import search\n",
    "\n",
    "\n"
   ]
  },
  {
   "cell_type": "code",
   "execution_count": 36,
   "id": "999b6f1d",
   "metadata": {},
   "outputs": [
    {
     "ename": "ModuleNotFoundError",
     "evalue": "No module named 'rag.retriever_vector'",
     "output_type": "error",
     "traceback": [
      "\u001b[1;31m---------------------------------------------------------------------------\u001b[0m",
      "\u001b[1;31mModuleNotFoundError\u001b[0m                       Traceback (most recent call last)",
      "Cell \u001b[1;32mIn[36], line 9\u001b[0m\n\u001b[0;32m      6\u001b[0m os\u001b[38;5;241m.\u001b[39menviron\u001b[38;5;241m.\u001b[39msetdefault(\u001b[38;5;124m\"\u001b[39m\u001b[38;5;124mPGUSER\u001b[39m\u001b[38;5;124m\"\u001b[39m, \u001b[38;5;124m\"\u001b[39m\u001b[38;5;124mpostgres\u001b[39m\u001b[38;5;124m\"\u001b[39m)\n\u001b[0;32m      7\u001b[0m os\u001b[38;5;241m.\u001b[39menviron\u001b[38;5;241m.\u001b[39msetdefault(\u001b[38;5;124m\"\u001b[39m\u001b[38;5;124mPGPASSWORD\u001b[39m\u001b[38;5;124m\"\u001b[39m, \u001b[38;5;124m\"\u001b[39m\u001b[38;5;124m12345\u001b[39m\u001b[38;5;124m\"\u001b[39m)\n\u001b[1;32m----> 9\u001b[0m \u001b[38;5;28;01mfrom\u001b[39;00m\u001b[38;5;250m \u001b[39m\u001b[38;5;21;01mrag\u001b[39;00m\u001b[38;5;21;01m.\u001b[39;00m\u001b[38;5;21;01mretriever_vector\u001b[39;00m\u001b[38;5;250m \u001b[39m\u001b[38;5;28;01mimport\u001b[39;00m search\n\u001b[0;32m     11\u001b[0m hits \u001b[38;5;241m=\u001b[39m search(\u001b[38;5;124m\"\u001b[39m\u001b[38;5;124mধান রোপণের সময় ও তাপমাত্রা\u001b[39m\u001b[38;5;124m\"\u001b[39m, k\u001b[38;5;241m=\u001b[39m\u001b[38;5;241m5\u001b[39m, fetch_k\u001b[38;5;241m=\u001b[39m\u001b[38;5;241m64\u001b[39m, language\u001b[38;5;241m=\u001b[39m\u001b[38;5;124m\"\u001b[39m\u001b[38;5;124mbn\u001b[39m\u001b[38;5;124m\"\u001b[39m)\n\u001b[0;32m     12\u001b[0m \u001b[38;5;28;01mfor\u001b[39;00m i, h \u001b[38;5;129;01min\u001b[39;00m \u001b[38;5;28menumerate\u001b[39m(hits, \u001b[38;5;241m1\u001b[39m):\n",
      "\u001b[1;31mModuleNotFoundError\u001b[0m: No module named 'rag.retriever_vector'"
     ]
    }
   ],
   "source": [
    "import os\n",
    "# Set DB env if not already set in system\n",
    "os.environ.setdefault(\"PGHOST\", \"localhost\")\n",
    "os.environ.setdefault(\"PGPORT\", \"5432\")\n",
    "os.environ.setdefault(\"PGDATABASE\", \"agrigpt\")\n",
    "os.environ.setdefault(\"PGUSER\", \"postgres\")\n",
    "os.environ.setdefault(\"PGPASSWORD\", \"12345\")\n",
    "\n",
    "from rag.retriever_vector import search\n",
    "\n",
    "hits = search(\"ধান রোপণের সময় ও তাপমাত্রা\", k=5, fetch_k=64, language=\"bn\")\n",
    "for i, h in enumerate(hits, 1):\n",
    "    print(f\"{i}. {h['source']}  score={h['cosine_sim']:.4f}\")\n",
    "    print(\"   \", (h[\"section_path\"] or \"\")[:120])\n",
    "    print(\"   \", h[\"text\"][:180].replace(\"\\n\",\" \"), \"...\\n\")\n"
   ]
  },
  {
   "cell_type": "code",
   "execution_count": 37,
   "id": "93bdd16c",
   "metadata": {},
   "outputs": [
    {
     "name": "stdout",
     "output_type": "stream",
     "text": [
      "PROJECT_ROOT = d:\\project=2\\Agrigpt\n",
      "Created: d:\\project=2\\Agrigpt\\rag\\__init__.py\n"
     ]
    }
   ],
   "source": [
    "import sys, os\n",
    "from pathlib import Path\n",
    "\n",
    "# 1) Auto-detect your project root that contains rag/retriever_vector.py\n",
    "def find_project_root(start: Path) -> Path:\n",
    "    for p in [start, *start.parents]:\n",
    "        if (p / \"rag\" / \"retriever_vector.py\").exists():\n",
    "            return p\n",
    "    raise RuntimeError(\"Couldn't find project root with rag/retriever_vector.py\")\n",
    "\n",
    "PROJECT_ROOT = find_project_root(Path.cwd())\n",
    "print(\"PROJECT_ROOT =\", PROJECT_ROOT)\n",
    "\n",
    "# 2) Put project root on sys.path (so `import rag...` works)\n",
    "pr = str(PROJECT_ROOT)\n",
    "if pr not in sys.path:\n",
    "    sys.path.insert(0, pr)\n",
    "\n",
    "# 3) Ensure rag is a package (create __init__.py if missing)\n",
    "init_file = PROJECT_ROOT / \"rag\" / \"__init__.py\"\n",
    "if not init_file.exists():\n",
    "    init_file.write_text(\"# package marker\\n\", encoding=\"utf-8\")\n",
    "    print(\"Created:\", init_file)\n",
    "else:\n",
    "    print(\"Found:\", init_file)\n"
   ]
  },
  {
   "cell_type": "code",
   "execution_count": 43,
   "id": "3d0c2483",
   "metadata": {},
   "outputs": [
    {
     "ename": "NameError",
     "evalue": "name 'search' is not defined",
     "output_type": "error",
     "traceback": [
      "\u001b[1;31m---------------------------------------------------------------------------\u001b[0m",
      "\u001b[1;31mNameError\u001b[0m                                 Traceback (most recent call last)",
      "Cell \u001b[1;32mIn[43], line 17\u001b[0m\n\u001b[0;32m     15\u001b[0m \u001b[38;5;28;01mfor\u001b[39;00m q \u001b[38;5;129;01min\u001b[39;00m qs:\n\u001b[0;32m     16\u001b[0m     t0 \u001b[38;5;241m=\u001b[39m time\u001b[38;5;241m.\u001b[39mtime()\n\u001b[1;32m---> 17\u001b[0m     hits \u001b[38;5;241m=\u001b[39m \u001b[43msearch\u001b[49m(q, k\u001b[38;5;241m=\u001b[39m\u001b[38;5;241m5\u001b[39m, fetch_k\u001b[38;5;241m=\u001b[39m\u001b[38;5;241m64\u001b[39m, language\u001b[38;5;241m=\u001b[39m\u001b[38;5;124m\"\u001b[39m\u001b[38;5;124mbn\u001b[39m\u001b[38;5;124m\"\u001b[39m)\n\u001b[0;32m     18\u001b[0m     dt \u001b[38;5;241m=\u001b[39m (time\u001b[38;5;241m.\u001b[39mtime()\u001b[38;5;241m-\u001b[39mt0)\u001b[38;5;241m*\u001b[39m\u001b[38;5;241m1000\u001b[39m\n\u001b[0;32m     19\u001b[0m     \u001b[38;5;28mprint\u001b[39m(\u001b[38;5;124mf\u001b[39m\u001b[38;5;124m\"\u001b[39m\u001b[38;5;130;01m\\n\u001b[39;00m\u001b[38;5;124mQ: \u001b[39m\u001b[38;5;132;01m{\u001b[39;00mq\u001b[38;5;132;01m}\u001b[39;00m\u001b[38;5;124m  (\u001b[39m\u001b[38;5;132;01m{\u001b[39;00mdt\u001b[38;5;132;01m:\u001b[39;00m\u001b[38;5;124m.1f\u001b[39m\u001b[38;5;132;01m}\u001b[39;00m\u001b[38;5;124m ms)\u001b[39m\u001b[38;5;124m\"\u001b[39m)\n",
      "\u001b[1;31mNameError\u001b[0m: name 'search' is not defined"
     ]
    }
   ],
   "source": [
    "import importlib.util, types\n",
    "fp = r\"D:\\project=2\\Agrigpt\\rag\\retriever_vector.py\"\n",
    "spec = importlib.util.spec_from_file_location(\"retriever_vector\", fp)\n",
    "rv = importlib.util.module_from_spec(spec)\n",
    "spec.loader.exec_module(rv)\n",
    "hits = rv.search(\"ধান রোপণের সময়\", k=5)\n",
    "hits[:2]\n",
    "import time\n",
    "qs = [\n",
    "    \"ধান রোপণের সময় ও তাপমাত্রা\",\n",
    "    \"গম কাটাই মৌসুম\",\n",
    "    \"Aman ধানের উৎপাদন ও আবহাওয়া\",\n",
    "    \"ভুট্টার উপযুক্ত তাপমাত্রা\",\n",
    "]\n",
    "for q in qs:\n",
    "    t0 = time.time()\n",
    "    hits = search(q, k=5, fetch_k=64, language=\"bn\")\n",
    "    dt = (time.time()-t0)*1000\n",
    "    print(f\"\\nQ: {q}  ({dt:.1f} ms)\")\n",
    "    for i,h in enumerate(hits,1):\n",
    "        print(f\"  {i}. {h['source']}  {h['cosine_sim']:.4f}\")\n",
    "        print(\"     \", (h[\"section_path\"] or \"\")[:120])\n",
    "        import statistics, time\n",
    "q = \"ধান রোগ\"  # example\n",
    "times=[]\n",
    "for _ in range(10):\n",
    "    t0=time.time(); _=search(q, k=5, fetch_k=64); times.append((time.time()-t0)*1000)\n",
    "print(\"p50(ms)=\", statistics.median(times), \"p95(ms)=\", sorted(times)[int(0.95*len(times))-1])\n"
   ]
  },
  {
   "cell_type": "code",
   "execution_count": 41,
   "id": "83c3bfef",
   "metadata": {},
   "outputs": [
    {
     "ename": "NameError",
     "evalue": "name 'search' is not defined",
     "output_type": "error",
     "traceback": [
      "\u001b[1;31m---------------------------------------------------------------------------\u001b[0m",
      "\u001b[1;31mNameError\u001b[0m                                 Traceback (most recent call last)",
      "Cell \u001b[1;32mIn[41], line 10\u001b[0m\n\u001b[0;32m      8\u001b[0m \u001b[38;5;28;01mfor\u001b[39;00m q \u001b[38;5;129;01min\u001b[39;00m qs:\n\u001b[0;32m      9\u001b[0m     t0 \u001b[38;5;241m=\u001b[39m time\u001b[38;5;241m.\u001b[39mtime()\n\u001b[1;32m---> 10\u001b[0m     hits \u001b[38;5;241m=\u001b[39m \u001b[43msearch\u001b[49m(q, k\u001b[38;5;241m=\u001b[39m\u001b[38;5;241m5\u001b[39m, fetch_k\u001b[38;5;241m=\u001b[39m\u001b[38;5;241m64\u001b[39m, language\u001b[38;5;241m=\u001b[39m\u001b[38;5;124m\"\u001b[39m\u001b[38;5;124mbn\u001b[39m\u001b[38;5;124m\"\u001b[39m)\n\u001b[0;32m     11\u001b[0m     dt \u001b[38;5;241m=\u001b[39m (time\u001b[38;5;241m.\u001b[39mtime()\u001b[38;5;241m-\u001b[39mt0)\u001b[38;5;241m*\u001b[39m\u001b[38;5;241m1000\u001b[39m\n\u001b[0;32m     12\u001b[0m     \u001b[38;5;28mprint\u001b[39m(\u001b[38;5;124mf\u001b[39m\u001b[38;5;124m\"\u001b[39m\u001b[38;5;130;01m\\n\u001b[39;00m\u001b[38;5;124mQ: \u001b[39m\u001b[38;5;132;01m{\u001b[39;00mq\u001b[38;5;132;01m}\u001b[39;00m\u001b[38;5;124m  (\u001b[39m\u001b[38;5;132;01m{\u001b[39;00mdt\u001b[38;5;132;01m:\u001b[39;00m\u001b[38;5;124m.1f\u001b[39m\u001b[38;5;132;01m}\u001b[39;00m\u001b[38;5;124m ms)\u001b[39m\u001b[38;5;124m\"\u001b[39m)\n",
      "\u001b[1;31mNameError\u001b[0m: name 'search' is not defined"
     ]
    }
   ],
   "source": [
    "import time\n",
    "qs = [\n",
    "    \"ধান রোপণের সময় ও তাপমাত্রা\",\n",
    "    \"গম কাটাই মৌসুম\",\n",
    "    \"Aman ধানের উৎপাদন ও আবহাওয়া\",\n",
    "    \"ভুট্টার উপযুক্ত তাপমাত্রা\",\n",
    "]\n",
    "for q in qs:\n",
    "    t0 = time.time()\n",
    "    hits = search(q, k=5, fetch_k=64, language=\"bn\")\n",
    "    dt = (time.time()-t0)*1000\n",
    "    print(f\"\\nQ: {q}  ({dt:.1f} ms)\")\n",
    "    for i,h in enumerate(hits,1):\n",
    "        print(f\"  {i}. {h['source']}  {h['cosine_sim']:.4f}\")\n",
    "        print(\"     \", (h[\"section_path\"] or \"\")[:120])\n",
    "        print(\"     \", h[\"text\"][:160].replace(\"\\n\",\" \"), \"…\")\n"
   ]
  },
  {
   "cell_type": "code",
   "execution_count": 42,
   "id": "8804e5b8",
   "metadata": {},
   "outputs": [
    {
     "ename": "NameError",
     "evalue": "name 'search' is not defined",
     "output_type": "error",
     "traceback": [
      "\u001b[1;31m---------------------------------------------------------------------------\u001b[0m",
      "\u001b[1;31mNameError\u001b[0m                                 Traceback (most recent call last)",
      "Cell \u001b[1;32mIn[42], line 5\u001b[0m\n\u001b[0;32m      3\u001b[0m times\u001b[38;5;241m=\u001b[39m[]\n\u001b[0;32m      4\u001b[0m \u001b[38;5;28;01mfor\u001b[39;00m _ \u001b[38;5;129;01min\u001b[39;00m \u001b[38;5;28mrange\u001b[39m(\u001b[38;5;241m10\u001b[39m):\n\u001b[1;32m----> 5\u001b[0m     t0\u001b[38;5;241m=\u001b[39mtime\u001b[38;5;241m.\u001b[39mtime(); _\u001b[38;5;241m=\u001b[39msearch(q, k\u001b[38;5;241m=\u001b[39m\u001b[38;5;241m5\u001b[39m, fetch_k\u001b[38;5;241m=\u001b[39m\u001b[38;5;241m64\u001b[39m); times\u001b[38;5;241m.\u001b[39mappend((time\u001b[38;5;241m.\u001b[39mtime()\u001b[38;5;241m-\u001b[39mt0)\u001b[38;5;241m*\u001b[39m\u001b[38;5;241m1000\u001b[39m)\n\u001b[0;32m      6\u001b[0m \u001b[38;5;28mprint\u001b[39m(\u001b[38;5;124m\"\u001b[39m\u001b[38;5;124mp50(ms)=\u001b[39m\u001b[38;5;124m\"\u001b[39m, statistics\u001b[38;5;241m.\u001b[39mmedian(times), \u001b[38;5;124m\"\u001b[39m\u001b[38;5;124mp95(ms)=\u001b[39m\u001b[38;5;124m\"\u001b[39m, \u001b[38;5;28msorted\u001b[39m(times)[\u001b[38;5;28mint\u001b[39m(\u001b[38;5;241m0.95\u001b[39m\u001b[38;5;241m*\u001b[39m\u001b[38;5;28mlen\u001b[39m(times))\u001b[38;5;241m-\u001b[39m\u001b[38;5;241m1\u001b[39m])\n",
      "\u001b[1;31mNameError\u001b[0m: name 'search' is not defined"
     ]
    }
   ],
   "source": [
    "import statistics, time\n",
    "q = \"ধান রোগ\"  # example\n",
    "times=[]\n",
    "for _ in range(10):\n",
    "    t0=time.time(); _=search(q, k=5, fetch_k=64); times.append((time.time()-t0)*1000)\n",
    "print(\"p50(ms)=\", statistics.median(times), \"p95(ms)=\", sorted(times)[int(0.95*len(times))-1])\n"
   ]
  },
  {
   "cell_type": "code",
   "execution_count": 38,
   "id": "66a4dab2",
   "metadata": {},
   "outputs": [
    {
     "ename": "ModuleNotFoundError",
     "evalue": "No module named 'rag.retriever_vector'",
     "output_type": "error",
     "traceback": [
      "\u001b[1;31m---------------------------------------------------------------------------\u001b[0m",
      "\u001b[1;31mModuleNotFoundError\u001b[0m                       Traceback (most recent call last)",
      "Cell \u001b[1;32mIn[38], line 9\u001b[0m\n\u001b[0;32m      6\u001b[0m os\u001b[38;5;241m.\u001b[39menviron\u001b[38;5;241m.\u001b[39msetdefault(\u001b[38;5;124m\"\u001b[39m\u001b[38;5;124mPGUSER\u001b[39m\u001b[38;5;124m\"\u001b[39m, \u001b[38;5;124m\"\u001b[39m\u001b[38;5;124mpostgres\u001b[39m\u001b[38;5;124m\"\u001b[39m)\n\u001b[0;32m      7\u001b[0m os\u001b[38;5;241m.\u001b[39menviron\u001b[38;5;241m.\u001b[39msetdefault(\u001b[38;5;124m\"\u001b[39m\u001b[38;5;124mPGPASSWORD\u001b[39m\u001b[38;5;124m\"\u001b[39m, \u001b[38;5;124m\"\u001b[39m\u001b[38;5;124m12345\u001b[39m\u001b[38;5;124m\"\u001b[39m)  \u001b[38;5;66;03m# your password\u001b[39;00m\n\u001b[1;32m----> 9\u001b[0m \u001b[38;5;28;01mfrom\u001b[39;00m\u001b[38;5;250m \u001b[39m\u001b[38;5;21;01mrag\u001b[39;00m\u001b[38;5;21;01m.\u001b[39;00m\u001b[38;5;21;01mretriever_vector\u001b[39;00m\u001b[38;5;250m \u001b[39m\u001b[38;5;28;01mimport\u001b[39;00m search\n\u001b[0;32m     11\u001b[0m hits \u001b[38;5;241m=\u001b[39m search(\u001b[38;5;124m\"\u001b[39m\u001b[38;5;124mধান রোপণের সময় ও তাপমাত্রা\u001b[39m\u001b[38;5;124m\"\u001b[39m, k\u001b[38;5;241m=\u001b[39m\u001b[38;5;241m5\u001b[39m, fetch_k\u001b[38;5;241m=\u001b[39m\u001b[38;5;241m64\u001b[39m, language\u001b[38;5;241m=\u001b[39m\u001b[38;5;124m\"\u001b[39m\u001b[38;5;124mbn\u001b[39m\u001b[38;5;124m\"\u001b[39m)\n\u001b[0;32m     12\u001b[0m \u001b[38;5;28;01mfor\u001b[39;00m i, h \u001b[38;5;129;01min\u001b[39;00m \u001b[38;5;28menumerate\u001b[39m(hits, \u001b[38;5;241m1\u001b[39m):\n",
      "\u001b[1;31mModuleNotFoundError\u001b[0m: No module named 'rag.retriever_vector'"
     ]
    }
   ],
   "source": [
    "# DB env (only if not already set in your system)\n",
    "import os\n",
    "os.environ.setdefault(\"PGHOST\", \"localhost\")\n",
    "os.environ.setdefault(\"PGPORT\", \"5432\")\n",
    "os.environ.setdefault(\"PGDATABASE\", \"agrigpt\")\n",
    "os.environ.setdefault(\"PGUSER\", \"postgres\")\n",
    "os.environ.setdefault(\"PGPASSWORD\", \"12345\")  # your password\n",
    "\n",
    "from rag.retriever_vector import search\n",
    "\n",
    "hits = search(\"ধান রোপণের সময় ও তাপমাত্রা\", k=5, fetch_k=64, language=\"bn\")\n",
    "for i, h in enumerate(hits, 1):\n",
    "    print(f\"{i}. {h['source']}  score={h['cosine_sim']:.4f}\")\n",
    "    print(\"   \", (h[\"section_path\"] or \"\")[:120])\n",
    "    print(\"   \", h[\"text\"][:180].replace(\"\\n\",\" \"), \"...\\n\")\n"
   ]
  }
 ],
 "metadata": {
  "kernelspec": {
   "display_name": ".venv",
   "language": "python",
   "name": "python3"
  },
  "language_info": {
   "codemirror_mode": {
    "name": "ipython",
    "version": 3
   },
   "file_extension": ".py",
   "mimetype": "text/x-python",
   "name": "python",
   "nbconvert_exporter": "python",
   "pygments_lexer": "ipython3",
   "version": "3.10.0"
  }
 },
 "nbformat": 4,
 "nbformat_minor": 5
}
